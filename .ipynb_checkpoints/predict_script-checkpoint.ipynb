{
 "cells": [
  {
   "cell_type": "code",
   "execution_count": null,
   "id": "707ff563-6080-4bfc-9e31-5d984659f6de",
   "metadata": {},
   "outputs": [],
   "source": [
    "import numpy as np\n",
    "from tensorflow.keras.models import load_model\n",
    "from tensorflow.keras.preprocessing.image import load_img, img_to_array\n",
    "\n",
    "# Replace 'your_image_path.jpg' with the path to the image you want to use for prediction\n",
    "# Replace 'your_model_path.h5' with the path to your saved model\n",
    "image_path = r'S:\\ShyamKrishna_Chunduri\\UofM\\UofMSem4\\IntroToAI\\project\\mask_detection_app\\Test\\Shyam_correct_mask.jpg'\n",
    "model_path = r'S:\\ShyamKrishna_Chunduri\\UofM\\UofMSem4\\IntroToAI\\project\\mask_detection_app\\best_pretrainednn_model.keras'\n"
   ]
  },
  {
   "cell_type": "code",
   "execution_count": null,
   "id": "7a43dc19-351f-4ad3-95a2-16ff6451d5fc",
   "metadata": {},
   "outputs": [],
   "source": [
    "!pip show tensorflow\n",
    "!pip show keras"
   ]
  },
  {
   "cell_type": "code",
   "execution_count": null,
   "id": "34c707cc-6424-4f85-b785-957d7f2e86ae",
   "metadata": {},
   "outputs": [],
   "source": []
  },
  {
   "cell_type": "code",
   "execution_count": null,
   "id": "a0f298e6-e9f9-4f45-a03e-0b7a5c068c48",
   "metadata": {},
   "outputs": [],
   "source": [
    "import keras\n",
    "\n",
    "# Load the saved model\n",
    "model = keras.models.load_model(model_path)\n",
    "\n"
   ]
  },
  {
   "cell_type": "code",
   "execution_count": null,
   "id": "83a05445-e923-4097-af3d-2df441f53e41",
   "metadata": {},
   "outputs": [],
   "source": [
    "pip install keras==2.15.0"
   ]
  },
  {
   "cell_type": "code",
   "execution_count": null,
   "id": "1fbb415b-e7b8-4b57-9469-3ba17ccf10ff",
   "metadata": {},
   "outputs": [],
   "source": [
    "\n",
    "# Function to load and prepare the image in the right format\n",
    "def load_and_prepare_image(image_path, image_size=(320, 320)):\n",
    "    # Load the image\n",
    "    image = load_img(image_path, target_size=image_size)\n",
    "    # Convert the image to a numpy array\n",
    "    image_array = img_to_array(image)\n",
    "    # Scale the image\n",
    "    image_array = image_array / 255.0\n",
    "    # Add a batch dimension\n",
    "    image_array = np.expand_dims(image_array, axis=0)\n",
    "    return image_array\n",
    "\n",
    "# Function to load the model and make a prediction\n",
    "def predict_with_model(image_path, model_path):\n",
    "    # Load the saved model\n",
    "    model = load_model(model_path)\n",
    "    # Prepare the image\n",
    "    prepared_image = load_and_prepare_image(image_path)\n",
    "    # Make a prediction\n",
    "    predictions = model.predict(prepared_image)\n",
    "    # Convert probabilities to class index\n",
    "    predicted_class_index = np.argmax(predictions, axis=1)\n",
    "    # Define class names based on your dataset\n",
    "    class_names = ['No Mask', 'Mask Incorrect', 'Mask Correct']\n",
    "    # Return the predicted class name\n",
    "    return class_names[predicted_class_index[0]]\n"
   ]
  },
  {
   "cell_type": "code",
   "execution_count": null,
   "id": "7ac3ff9f-b676-4797-a6d5-77bcca973ad0",
   "metadata": {
    "scrolled": true
   },
   "outputs": [],
   "source": [
    "# Predict the class of the image\n",
    "predicted_class = predict_with_model(image_path, model_path)\n",
    "\n",
    "# Print out the result\n",
    "print(\"Predicted class:\", predicted_class)\n",
    "\n",
    "# Display the preprocessed image\n",
    "plt.imshow(image_array_scaled)\n",
    "plt.title(f\"Preprocessed Image - Predicted as {predicted_class}\")\n",
    "plt.axis('off') # Hide the axis\n",
    "plt.show()"
   ]
  }
 ],
 "metadata": {
  "kernelspec": {
   "display_name": "Python 3 (ipykernel)",
   "language": "python",
   "name": "python3"
  },
  "language_info": {
   "codemirror_mode": {
    "name": "ipython",
    "version": 3
   },
   "file_extension": ".py",
   "mimetype": "text/x-python",
   "name": "python",
   "nbconvert_exporter": "python",
   "pygments_lexer": "ipython3",
   "version": "3.11.2"
  }
 },
 "nbformat": 4,
 "nbformat_minor": 5
}
